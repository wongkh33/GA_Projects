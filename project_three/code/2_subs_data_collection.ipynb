{
 "cells": [
  {
   "cell_type": "markdown",
   "id": "881d0b7c-9c6c-4ae1-85c7-cb61324ecb8f",
   "metadata": {
    "jp-MarkdownHeadingCollapsed": true,
    "tags": []
   },
   "source": [
    "## Data Collection and De-duplication"
   ]
  },
  {
   "cell_type": "code",
   "execution_count": 1,
   "id": "49ed08cf-1c2e-4eac-a11f-aaf8a76ff6f1",
   "metadata": {},
   "outputs": [],
   "source": [
    "import pandas as pd\n",
    "import requests\n",
    "import json\n",
    "import re"
   ]
  },
  {
   "cell_type": "code",
   "execution_count": 2,
   "id": "7d105282-a921-4d59-9e8b-dc181102ed71",
   "metadata": {},
   "outputs": [],
   "source": [
    "# Opening JSON file for crossfit\n",
    "\n",
    "cf2 = open('crossfit_reddit-sub-data.json')\n",
    "crossfit_subs = json.load(cf2)"
   ]
  },
  {
   "cell_type": "code",
   "execution_count": 3,
   "id": "b4390ca6-2fd3-4fb0-81d0-4502d438bd5b",
   "metadata": {},
   "outputs": [],
   "source": [
    "# Opening JSON file for bjj\n",
    "\n",
    "b2 = open('bjj_reddit-sub-data.json')\n",
    "bjj_subs = json.load(b2)"
   ]
  },
  {
   "cell_type": "code",
   "execution_count": 4,
   "id": "bedb0a07-451f-422f-b45b-5249e2721349",
   "metadata": {},
   "outputs": [
    {
     "data": {
      "text/plain": [
       "2519"
      ]
     },
     "execution_count": 4,
     "metadata": {},
     "output_type": "execute_result"
    }
   ],
   "source": [
    "# Obtaining text from submissions on r/crossfit\n",
    "\n",
    "result2 = []\n",
    "for i in crossfit_subs:\n",
    "    result2.append(i['selftext'])\n",
    "len(result2)"
   ]
  },
  {
   "cell_type": "code",
   "execution_count": 5,
   "id": "3c768e89-8a5e-4156-8696-9748c2990531",
   "metadata": {},
   "outputs": [
    {
     "data": {
      "text/html": [
       "<div>\n",
       "<style scoped>\n",
       "    .dataframe tbody tr th:only-of-type {\n",
       "        vertical-align: middle;\n",
       "    }\n",
       "\n",
       "    .dataframe tbody tr th {\n",
       "        vertical-align: top;\n",
       "    }\n",
       "\n",
       "    .dataframe thead th {\n",
       "        text-align: right;\n",
       "    }\n",
       "</style>\n",
       "<table border=\"1\" class=\"dataframe\">\n",
       "  <thead>\n",
       "    <tr style=\"text-align: right;\">\n",
       "      <th></th>\n",
       "      <th>0</th>\n",
       "      <th>type</th>\n",
       "      <th>label</th>\n",
       "    </tr>\n",
       "  </thead>\n",
       "  <tbody>\n",
       "    <tr>\n",
       "      <th>0</th>\n",
       "      <td>Hi guys, just needing a bit of an unbiased adv...</td>\n",
       "      <td>submissions</td>\n",
       "      <td>crossfit</td>\n",
       "    </tr>\n",
       "    <tr>\n",
       "      <th>1</th>\n",
       "      <td>But I do workout and have stopped. I found out...</td>\n",
       "      <td>submissions</td>\n",
       "      <td>crossfit</td>\n",
       "    </tr>\n",
       "    <tr>\n",
       "      <th>2</th>\n",
       "      <td>Hi everyone,\\n\\nJust curious if anyone has eve...</td>\n",
       "      <td>submissions</td>\n",
       "      <td>crossfit</td>\n",
       "    </tr>\n",
       "    <tr>\n",
       "      <th>3</th>\n",
       "      <td>\\n\\nAre you tired of hit-and-miss workouts th...</td>\n",
       "      <td>submissions</td>\n",
       "      <td>crossfit</td>\n",
       "    </tr>\n",
       "    <tr>\n",
       "      <th>4</th>\n",
       "      <td>As a newcomer to CrossFit, I've been wondering...</td>\n",
       "      <td>submissions</td>\n",
       "      <td>crossfit</td>\n",
       "    </tr>\n",
       "  </tbody>\n",
       "</table>\n",
       "</div>"
      ],
      "text/plain": [
       "                                                   0         type     label\n",
       "0  Hi guys, just needing a bit of an unbiased adv...  submissions  crossfit\n",
       "1  But I do workout and have stopped. I found out...  submissions  crossfit\n",
       "2  Hi everyone,\\n\\nJust curious if anyone has eve...  submissions  crossfit\n",
       "3   \\n\\nAre you tired of hit-and-miss workouts th...  submissions  crossfit\n",
       "4  As a newcomer to CrossFit, I've been wondering...  submissions  crossfit"
      ]
     },
     "execution_count": 5,
     "metadata": {},
     "output_type": "execute_result"
    }
   ],
   "source": [
    "# Converting to dataframe and assigning labels \n",
    "\n",
    "crossfit_subs = pd.DataFrame(result2)\n",
    "crossfit_subs['type'] = [\"submissions\" for x in crossfit_subs[0]]\n",
    "crossfit_subs['label'] = [\"crossfit\" for x in crossfit_subs[0]]\n",
    "crossfit_subs.head()"
   ]
  },
  {
   "cell_type": "code",
   "execution_count": 6,
   "id": "d835d43b-8766-4e14-b0b9-681a99130ee6",
   "metadata": {},
   "outputs": [
    {
     "data": {
      "text/plain": [
       "1482"
      ]
     },
     "execution_count": 6,
     "metadata": {},
     "output_type": "execute_result"
    }
   ],
   "source": [
    "# Removing duplicated posts and checking the final length of remaining posts\n",
    "\n",
    "crossfit_subs.drop_duplicates(subset = 0, inplace = True)\n",
    "len(crossfit_subs)"
   ]
  },
  {
   "cell_type": "code",
   "execution_count": 7,
   "id": "a45c9090-12cc-4453-aac2-1f9e8ed23ec4",
   "metadata": {},
   "outputs": [],
   "source": [
    "# Exporting the dataset\n",
    "\n",
    "crossfit_subs.to_csv('../data/crossfit_subs2.csv')"
   ]
  },
  {
   "cell_type": "code",
   "execution_count": 8,
   "id": "2fea3cb6-ee75-449d-b2d7-860724631336",
   "metadata": {},
   "outputs": [
    {
     "data": {
      "text/plain": [
       "3024"
      ]
     },
     "execution_count": 8,
     "metadata": {},
     "output_type": "execute_result"
    }
   ],
   "source": [
    "# Obtaining text from submissions on r/bjj\n",
    "\n",
    "result4 = []\n",
    "for i in bjj_subs:\n",
    "    result4.append(i['selftext'])\n",
    "len(result4)"
   ]
  },
  {
   "cell_type": "code",
   "execution_count": 9,
   "id": "150a939c-8c4d-47af-81ce-e7d70185b807",
   "metadata": {},
   "outputs": [
    {
     "data": {
      "text/html": [
       "<div>\n",
       "<style scoped>\n",
       "    .dataframe tbody tr th:only-of-type {\n",
       "        vertical-align: middle;\n",
       "    }\n",
       "\n",
       "    .dataframe tbody tr th {\n",
       "        vertical-align: top;\n",
       "    }\n",
       "\n",
       "    .dataframe thead th {\n",
       "        text-align: right;\n",
       "    }\n",
       "</style>\n",
       "<table border=\"1\" class=\"dataframe\">\n",
       "  <thead>\n",
       "    <tr style=\"text-align: right;\">\n",
       "      <th></th>\n",
       "      <th>0</th>\n",
       "      <th>type</th>\n",
       "      <th>label</th>\n",
       "    </tr>\n",
       "  </thead>\n",
       "  <tbody>\n",
       "    <tr>\n",
       "      <th>0</th>\n",
       "      <td>I’m a highly knowledgable brown belt, and quit...</td>\n",
       "      <td>subs</td>\n",
       "      <td>bjj</td>\n",
       "    </tr>\n",
       "    <tr>\n",
       "      <th>1</th>\n",
       "      <td></td>\n",
       "      <td>subs</td>\n",
       "      <td>bjj</td>\n",
       "    </tr>\n",
       "    <tr>\n",
       "      <th>2</th>\n",
       "      <td>Out of the 4 subs on the main card, who impres...</td>\n",
       "      <td>subs</td>\n",
       "      <td>bjj</td>\n",
       "    </tr>\n",
       "    <tr>\n",
       "      <th>3</th>\n",
       "      <td>[removed]</td>\n",
       "      <td>subs</td>\n",
       "      <td>bjj</td>\n",
       "    </tr>\n",
       "    <tr>\n",
       "      <th>4</th>\n",
       "      <td>Skills aside, what is the best build for bjj? ...</td>\n",
       "      <td>subs</td>\n",
       "      <td>bjj</td>\n",
       "    </tr>\n",
       "  </tbody>\n",
       "</table>\n",
       "</div>"
      ],
      "text/plain": [
       "                                                   0  type label\n",
       "0  I’m a highly knowledgable brown belt, and quit...  subs   bjj\n",
       "1                                                     subs   bjj\n",
       "2  Out of the 4 subs on the main card, who impres...  subs   bjj\n",
       "3                                          [removed]  subs   bjj\n",
       "4  Skills aside, what is the best build for bjj? ...  subs   bjj"
      ]
     },
     "execution_count": 9,
     "metadata": {},
     "output_type": "execute_result"
    }
   ],
   "source": [
    "# Converting to dataframe and assigning labels \n",
    "\n",
    "bjj_subs = pd.DataFrame(result4)\n",
    "bjj_subs['type'] = [\"subs\" for x in bjj_subs[0]]\n",
    "bjj_subs['label'] = [\"bjj\" for x in bjj_subs[0]]\n",
    "bjj_subs.head()"
   ]
  },
  {
   "cell_type": "code",
   "execution_count": 10,
   "id": "3e5a35c6-cd9e-441c-b05f-05a7614ab56f",
   "metadata": {},
   "outputs": [
    {
     "data": {
      "text/plain": [
       "1630"
      ]
     },
     "execution_count": 10,
     "metadata": {},
     "output_type": "execute_result"
    }
   ],
   "source": [
    "# Removing duplicated posts and checking the final length of remaining posts\n",
    "\n",
    "bjj_subs.drop_duplicates(inplace = True)\n",
    "len(bjj_subs)"
   ]
  },
  {
   "cell_type": "code",
   "execution_count": 11,
   "id": "0e33a7ed-2887-488b-a39e-b0e25302425f",
   "metadata": {},
   "outputs": [],
   "source": [
    "# Exporting the dataset\n",
    "\n",
    "bjj_subs.to_csv('../data/bjj_subs2.csv')"
   ]
  },
  {
   "cell_type": "code",
   "execution_count": null,
   "id": "58da7dee-6bd7-4ee1-beca-f883cc0e0ad0",
   "metadata": {},
   "outputs": [],
   "source": []
  },
  {
   "cell_type": "code",
   "execution_count": null,
   "id": "a0747834-e0e0-429b-930a-134aa6e9c9d0",
   "metadata": {},
   "outputs": [],
   "source": []
  },
  {
   "cell_type": "code",
   "execution_count": null,
   "id": "b2d7dc9a-a95b-4b78-a27d-dd82db1f02af",
   "metadata": {},
   "outputs": [],
   "source": []
  },
  {
   "cell_type": "code",
   "execution_count": null,
   "id": "c4d21e07-0618-4a5b-b9e2-b72506951cb3",
   "metadata": {},
   "outputs": [],
   "source": []
  }
 ],
 "metadata": {
  "kernelspec": {
   "display_name": "dsi-sg",
   "language": "python",
   "name": "dsi-sg"
  },
  "language_info": {
   "codemirror_mode": {
    "name": "ipython",
    "version": 3
   },
   "file_extension": ".py",
   "mimetype": "text/x-python",
   "name": "python",
   "nbconvert_exporter": "python",
   "pygments_lexer": "ipython3",
   "version": "3.9.13"
  }
 },
 "nbformat": 4,
 "nbformat_minor": 5
}
