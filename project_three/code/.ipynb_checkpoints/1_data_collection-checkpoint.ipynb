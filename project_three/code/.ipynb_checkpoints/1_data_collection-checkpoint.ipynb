{
 "cells": [
  {
   "cell_type": "markdown",
   "id": "881d0b7c-9c6c-4ae1-85c7-cb61324ecb8f",
   "metadata": {},
   "source": [
    "## 1. Data Collection"
   ]
  },
  {
   "cell_type": "code",
   "execution_count": 1,
   "id": "49ed08cf-1c2e-4eac-a11f-aaf8a76ff6f1",
   "metadata": {},
   "outputs": [],
   "source": [
    "import pandas as pd\n",
    "import requests\n",
    "import json\n",
    "import re"
   ]
  },
  {
   "cell_type": "code",
   "execution_count": 2,
   "id": "52710f05-fb83-4345-a078-2887f8f45b28",
   "metadata": {},
   "outputs": [],
   "source": [
    "# Opening JSON file\n",
    "cf1 = open('crossfit_reddit-comment-data.json')\n",
    "crossfit_comments = json.load(cf1)"
   ]
  },
  {
   "cell_type": "code",
   "execution_count": 3,
   "id": "7d105282-a921-4d59-9e8b-dc181102ed71",
   "metadata": {},
   "outputs": [],
   "source": [
    "# Opening JSON file\n",
    "cf2 = open('crossfit_reddit-sub-data.json')\n",
    "crossfit_subs = json.load(cf2)"
   ]
  },
  {
   "cell_type": "code",
   "execution_count": 4,
   "id": "59682b0d-ed99-4b12-8b12-11ffdd1148f4",
   "metadata": {},
   "outputs": [],
   "source": [
    "# Opening JSON file\n",
    "b1 = open('bjj_reddit-comment-data.json')\n",
    "bjj_comments = json.load(b1)"
   ]
  },
  {
   "cell_type": "code",
   "execution_count": 5,
   "id": "b4390ca6-2fd3-4fb0-81d0-4502d438bd5b",
   "metadata": {},
   "outputs": [],
   "source": [
    "# Opening JSON file\n",
    "b2 = open('bjj_reddit-sub-data.json')\n",
    "bjj_subs = json.load(b2)"
   ]
  },
  {
   "cell_type": "code",
   "execution_count": 6,
   "id": "656c6e74-9e3c-46cb-a1b4-0184a55bcc74",
   "metadata": {},
   "outputs": [
    {
     "data": {
      "text/plain": [
       "16231"
      ]
     },
     "execution_count": 6,
     "metadata": {},
     "output_type": "execute_result"
    }
   ],
   "source": [
    "# Obtaining text from comments on r/crossfit\n",
    "\n",
    "result1 = []\n",
    "for i in crossfit_comments:\n",
    "    result1.append(i['body'])\n",
    "len(result1)"
   ]
  },
  {
   "cell_type": "code",
   "execution_count": 7,
   "id": "b4b99ce3-278f-4a4f-9d0d-0495c52bdf5d",
   "metadata": {},
   "outputs": [
    {
     "data": {
      "text/html": [
       "<div>\n",
       "<style scoped>\n",
       "    .dataframe tbody tr th:only-of-type {\n",
       "        vertical-align: middle;\n",
       "    }\n",
       "\n",
       "    .dataframe tbody tr th {\n",
       "        vertical-align: top;\n",
       "    }\n",
       "\n",
       "    .dataframe thead th {\n",
       "        text-align: right;\n",
       "    }\n",
       "</style>\n",
       "<table border=\"1\" class=\"dataframe\">\n",
       "  <thead>\n",
       "    <tr style=\"text-align: right;\">\n",
       "      <th></th>\n",
       "      <th>0</th>\n",
       "      <th>type</th>\n",
       "      <th>label</th>\n",
       "    </tr>\n",
       "  </thead>\n",
       "  <tbody>\n",
       "    <tr>\n",
       "      <th>0</th>\n",
       "      <td>Yeah 21-15-9 is designed to be a sprint otherw...</td>\n",
       "      <td>comments</td>\n",
       "      <td>crossfit</td>\n",
       "    </tr>\n",
       "    <tr>\n",
       "      <th>1</th>\n",
       "      <td>I'd be happy if the rope was mixed in:\\n21 DL ...</td>\n",
       "      <td>comments</td>\n",
       "      <td>crossfit</td>\n",
       "    </tr>\n",
       "    <tr>\n",
       "      <th>2</th>\n",
       "      <td>Is btwb more Wod oriented? I’m actually going ...</td>\n",
       "      <td>comments</td>\n",
       "      <td>crossfit</td>\n",
       "    </tr>\n",
       "    <tr>\n",
       "      <th>3</th>\n",
       "      <td>Well so far my thruster has held up very well....</td>\n",
       "      <td>comments</td>\n",
       "      <td>crossfit</td>\n",
       "    </tr>\n",
       "    <tr>\n",
       "      <th>4</th>\n",
       "      <td>Look up Peyton Parrish. \\n\\nHe used to do Coun...</td>\n",
       "      <td>comments</td>\n",
       "      <td>crossfit</td>\n",
       "    </tr>\n",
       "  </tbody>\n",
       "</table>\n",
       "</div>"
      ],
      "text/plain": [
       "                                                   0      type     label\n",
       "0  Yeah 21-15-9 is designed to be a sprint otherw...  comments  crossfit\n",
       "1  I'd be happy if the rope was mixed in:\\n21 DL ...  comments  crossfit\n",
       "2  Is btwb more Wod oriented? I’m actually going ...  comments  crossfit\n",
       "3  Well so far my thruster has held up very well....  comments  crossfit\n",
       "4  Look up Peyton Parrish. \\n\\nHe used to do Coun...  comments  crossfit"
      ]
     },
     "execution_count": 7,
     "metadata": {},
     "output_type": "execute_result"
    }
   ],
   "source": [
    "# Converting to dataframe and assigning labels \n",
    "\n",
    "crossfit_comments = pd.DataFrame(result1)\n",
    "crossfit_comments['type'] = [\"comments\" for x in crossfit_comments[0]]\n",
    "crossfit_comments['label'] = [\"crossfit\" for x in crossfit_comments[0]]\n",
    "crossfit_comments.head()"
   ]
  },
  {
   "cell_type": "code",
   "execution_count": 8,
   "id": "92cd76df-df39-46e9-9d2c-e85571f3b5f8",
   "metadata": {},
   "outputs": [
    {
     "data": {
      "text/plain": [
       "15855"
      ]
     },
     "execution_count": 8,
     "metadata": {},
     "output_type": "execute_result"
    }
   ],
   "source": [
    "# Removing duplicated posts and checking the final length of remaining posts\n",
    "\n",
    "crossfit_comments.drop_duplicates(subset = 0, inplace = True)\n",
    "len(crossfit_comments)"
   ]
  },
  {
   "cell_type": "code",
   "execution_count": 9,
   "id": "366389df-f517-4533-8aeb-fa807a97b770",
   "metadata": {},
   "outputs": [
    {
     "data": {
      "text/html": [
       "<div>\n",
       "<style scoped>\n",
       "    .dataframe tbody tr th:only-of-type {\n",
       "        vertical-align: middle;\n",
       "    }\n",
       "\n",
       "    .dataframe tbody tr th {\n",
       "        vertical-align: top;\n",
       "    }\n",
       "\n",
       "    .dataframe thead th {\n",
       "        text-align: right;\n",
       "    }\n",
       "</style>\n",
       "<table border=\"1\" class=\"dataframe\">\n",
       "  <thead>\n",
       "    <tr style=\"text-align: right;\">\n",
       "      <th></th>\n",
       "      <th>0</th>\n",
       "      <th>type</th>\n",
       "      <th>label</th>\n",
       "    </tr>\n",
       "  </thead>\n",
       "  <tbody>\n",
       "    <tr>\n",
       "      <th>0</th>\n",
       "      <td>Yeah 21-15-9 is designed to be a sprint otherw...</td>\n",
       "      <td>comments</td>\n",
       "      <td>crossfit</td>\n",
       "    </tr>\n",
       "    <tr>\n",
       "      <th>1</th>\n",
       "      <td>I'd be happy if the rope was mixed in:\\n21 DL ...</td>\n",
       "      <td>comments</td>\n",
       "      <td>crossfit</td>\n",
       "    </tr>\n",
       "    <tr>\n",
       "      <th>2</th>\n",
       "      <td>Is btwb more Wod oriented? I’m actually going ...</td>\n",
       "      <td>comments</td>\n",
       "      <td>crossfit</td>\n",
       "    </tr>\n",
       "    <tr>\n",
       "      <th>3</th>\n",
       "      <td>Well so far my thruster has held up very well....</td>\n",
       "      <td>comments</td>\n",
       "      <td>crossfit</td>\n",
       "    </tr>\n",
       "    <tr>\n",
       "      <th>4</th>\n",
       "      <td>Look up Peyton Parrish. \\n\\nHe used to do Coun...</td>\n",
       "      <td>comments</td>\n",
       "      <td>crossfit</td>\n",
       "    </tr>\n",
       "    <tr>\n",
       "      <th>...</th>\n",
       "      <td>...</td>\n",
       "      <td>...</td>\n",
       "      <td>...</td>\n",
       "    </tr>\n",
       "    <tr>\n",
       "      <th>16226</th>\n",
       "      <td>https://www.wit-fitness.com/</td>\n",
       "      <td>comments</td>\n",
       "      <td>crossfit</td>\n",
       "    </tr>\n",
       "    <tr>\n",
       "      <th>16227</th>\n",
       "      <td>Did you just make up your own disorder? Some p...</td>\n",
       "      <td>comments</td>\n",
       "      <td>crossfit</td>\n",
       "    </tr>\n",
       "    <tr>\n",
       "      <th>16228</th>\n",
       "      <td>Those are the limited edition bufus!</td>\n",
       "      <td>comments</td>\n",
       "      <td>crossfit</td>\n",
       "    </tr>\n",
       "    <tr>\n",
       "      <th>16229</th>\n",
       "      <td>Your [submission](https://www.reddit.com/r/cro...</td>\n",
       "      <td>comments</td>\n",
       "      <td>crossfit</td>\n",
       "    </tr>\n",
       "    <tr>\n",
       "      <th>16230</th>\n",
       "      <td>500 m is a short distance. There is no time fo...</td>\n",
       "      <td>comments</td>\n",
       "      <td>crossfit</td>\n",
       "    </tr>\n",
       "  </tbody>\n",
       "</table>\n",
       "<p>15855 rows × 3 columns</p>\n",
       "</div>"
      ],
      "text/plain": [
       "                                                       0      type     label\n",
       "0      Yeah 21-15-9 is designed to be a sprint otherw...  comments  crossfit\n",
       "1      I'd be happy if the rope was mixed in:\\n21 DL ...  comments  crossfit\n",
       "2      Is btwb more Wod oriented? I’m actually going ...  comments  crossfit\n",
       "3      Well so far my thruster has held up very well....  comments  crossfit\n",
       "4      Look up Peyton Parrish. \\n\\nHe used to do Coun...  comments  crossfit\n",
       "...                                                  ...       ...       ...\n",
       "16226                       https://www.wit-fitness.com/  comments  crossfit\n",
       "16227  Did you just make up your own disorder? Some p...  comments  crossfit\n",
       "16228               Those are the limited edition bufus!  comments  crossfit\n",
       "16229  Your [submission](https://www.reddit.com/r/cro...  comments  crossfit\n",
       "16230  500 m is a short distance. There is no time fo...  comments  crossfit\n",
       "\n",
       "[15855 rows x 3 columns]"
      ]
     },
     "execution_count": 9,
     "metadata": {},
     "output_type": "execute_result"
    }
   ],
   "source": [
    "crossfit_comments"
   ]
  },
  {
   "cell_type": "code",
   "execution_count": 10,
   "id": "8233352a-bc60-45bd-af08-d5226f9bf520",
   "metadata": {},
   "outputs": [],
   "source": [
    "# Exporting the dataset\n",
    "\n",
    "crossfit_comments.to_csv('../data/crossfit_comments.csv')"
   ]
  },
  {
   "cell_type": "code",
   "execution_count": 11,
   "id": "bedb0a07-451f-422f-b45b-5249e2721349",
   "metadata": {},
   "outputs": [
    {
     "data": {
      "text/plain": [
       "783"
      ]
     },
     "execution_count": 11,
     "metadata": {},
     "output_type": "execute_result"
    }
   ],
   "source": [
    "# Obtaining text from submissions on r/crossfit\n",
    "\n",
    "result2 = []\n",
    "for i in crossfit_subs:\n",
    "    result2.append(i['selftext'])\n",
    "len(result2)"
   ]
  },
  {
   "cell_type": "code",
   "execution_count": 12,
   "id": "3c768e89-8a5e-4156-8696-9748c2990531",
   "metadata": {},
   "outputs": [
    {
     "data": {
      "text/html": [
       "<div>\n",
       "<style scoped>\n",
       "    .dataframe tbody tr th:only-of-type {\n",
       "        vertical-align: middle;\n",
       "    }\n",
       "\n",
       "    .dataframe tbody tr th {\n",
       "        vertical-align: top;\n",
       "    }\n",
       "\n",
       "    .dataframe thead th {\n",
       "        text-align: right;\n",
       "    }\n",
       "</style>\n",
       "<table border=\"1\" class=\"dataframe\">\n",
       "  <thead>\n",
       "    <tr style=\"text-align: right;\">\n",
       "      <th></th>\n",
       "      <th>0</th>\n",
       "      <th>type</th>\n",
       "      <th>label</th>\n",
       "    </tr>\n",
       "  </thead>\n",
       "  <tbody>\n",
       "    <tr>\n",
       "      <th>0</th>\n",
       "      <td></td>\n",
       "      <td>submissions</td>\n",
       "      <td>crossfit</td>\n",
       "    </tr>\n",
       "    <tr>\n",
       "      <th>1</th>\n",
       "      <td>This really is beyond me seeing all these nega...</td>\n",
       "      <td>submissions</td>\n",
       "      <td>crossfit</td>\n",
       "    </tr>\n",
       "    <tr>\n",
       "      <th>2</th>\n",
       "      <td>Do you use them and what are the best ones? Pa...</td>\n",
       "      <td>submissions</td>\n",
       "      <td>crossfit</td>\n",
       "    </tr>\n",
       "    <tr>\n",
       "      <th>3</th>\n",
       "      <td>Having trouble finding where CrossFit said it ...</td>\n",
       "      <td>submissions</td>\n",
       "      <td>crossfit</td>\n",
       "    </tr>\n",
       "    <tr>\n",
       "      <th>4</th>\n",
       "      <td>I should remember this from previous years, bu...</td>\n",
       "      <td>submissions</td>\n",
       "      <td>crossfit</td>\n",
       "    </tr>\n",
       "  </tbody>\n",
       "</table>\n",
       "</div>"
      ],
      "text/plain": [
       "                                                   0         type     label\n",
       "0                                                     submissions  crossfit\n",
       "1  This really is beyond me seeing all these nega...  submissions  crossfit\n",
       "2  Do you use them and what are the best ones? Pa...  submissions  crossfit\n",
       "3  Having trouble finding where CrossFit said it ...  submissions  crossfit\n",
       "4  I should remember this from previous years, bu...  submissions  crossfit"
      ]
     },
     "execution_count": 12,
     "metadata": {},
     "output_type": "execute_result"
    }
   ],
   "source": [
    "# Converting to dataframe and assigning labels \n",
    "\n",
    "crossfit_subs = pd.DataFrame(result2)\n",
    "crossfit_subs['type'] = [\"submissions\" for x in crossfit_subs[0]]\n",
    "crossfit_subs['label'] = [\"crossfit\" for x in crossfit_subs[0]]\n",
    "crossfit_subs.head()"
   ]
  },
  {
   "cell_type": "code",
   "execution_count": 13,
   "id": "d835d43b-8766-4e14-b0b9-681a99130ee6",
   "metadata": {},
   "outputs": [
    {
     "data": {
      "text/plain": [
       "468"
      ]
     },
     "execution_count": 13,
     "metadata": {},
     "output_type": "execute_result"
    }
   ],
   "source": [
    "# Removing duplicated posts and checking the final length of remaining posts\n",
    "\n",
    "crossfit_subs.drop_duplicates(subset = 0, inplace = True)\n",
    "len(crossfit_subs)"
   ]
  },
  {
   "cell_type": "code",
   "execution_count": 14,
   "id": "a45c9090-12cc-4453-aac2-1f9e8ed23ec4",
   "metadata": {},
   "outputs": [],
   "source": [
    "# Exporting the dataset\n",
    "\n",
    "crossfit_subs.to_csv('../data/crossfit_subs.csv')"
   ]
  },
  {
   "cell_type": "code",
   "execution_count": 15,
   "id": "1d9d8176-2938-40be-b9cd-6d218ec87f40",
   "metadata": {},
   "outputs": [
    {
     "data": {
      "text/plain": [
       "30988"
      ]
     },
     "execution_count": 15,
     "metadata": {},
     "output_type": "execute_result"
    }
   ],
   "source": [
    "# Obtaining text from comments on r/bjj\n",
    "\n",
    "result3 = []\n",
    "for i in bjj_comments:\n",
    "    result3.append(i['body'])\n",
    "len(result3)"
   ]
  },
  {
   "cell_type": "code",
   "execution_count": 16,
   "id": "c2a591fa-31c4-4da5-a7a5-c27c3f50d9cc",
   "metadata": {},
   "outputs": [
    {
     "data": {
      "text/html": [
       "<div>\n",
       "<style scoped>\n",
       "    .dataframe tbody tr th:only-of-type {\n",
       "        vertical-align: middle;\n",
       "    }\n",
       "\n",
       "    .dataframe tbody tr th {\n",
       "        vertical-align: top;\n",
       "    }\n",
       "\n",
       "    .dataframe thead th {\n",
       "        text-align: right;\n",
       "    }\n",
       "</style>\n",
       "<table border=\"1\" class=\"dataframe\">\n",
       "  <thead>\n",
       "    <tr style=\"text-align: right;\">\n",
       "      <th></th>\n",
       "      <th>0</th>\n",
       "      <th>type</th>\n",
       "      <th>label</th>\n",
       "    </tr>\n",
       "  </thead>\n",
       "  <tbody>\n",
       "    <tr>\n",
       "      <th>0</th>\n",
       "      <td>That's like saying you scored a field goal but...</td>\n",
       "      <td>comments</td>\n",
       "      <td>bjj</td>\n",
       "    </tr>\n",
       "    <tr>\n",
       "      <th>1</th>\n",
       "      <td>We must protect him</td>\n",
       "      <td>comments</td>\n",
       "      <td>bjj</td>\n",
       "    </tr>\n",
       "    <tr>\n",
       "      <th>2</th>\n",
       "      <td>Gi deff has more participants.  But nogi is mo...</td>\n",
       "      <td>comments</td>\n",
       "      <td>bjj</td>\n",
       "    </tr>\n",
       "    <tr>\n",
       "      <th>3</th>\n",
       "      <td>Actually giant mismatch in skills make matches...</td>\n",
       "      <td>comments</td>\n",
       "      <td>bjj</td>\n",
       "    </tr>\n",
       "    <tr>\n",
       "      <th>4</th>\n",
       "      <td>Try training no gi exclusively into your 40s a...</td>\n",
       "      <td>comments</td>\n",
       "      <td>bjj</td>\n",
       "    </tr>\n",
       "  </tbody>\n",
       "</table>\n",
       "</div>"
      ],
      "text/plain": [
       "                                                   0      type label\n",
       "0  That's like saying you scored a field goal but...  comments   bjj\n",
       "1                                We must protect him  comments   bjj\n",
       "2  Gi deff has more participants.  But nogi is mo...  comments   bjj\n",
       "3  Actually giant mismatch in skills make matches...  comments   bjj\n",
       "4  Try training no gi exclusively into your 40s a...  comments   bjj"
      ]
     },
     "execution_count": 16,
     "metadata": {},
     "output_type": "execute_result"
    }
   ],
   "source": [
    "# Converting to dataframe and assigning labels \n",
    "\n",
    "bjj_comments = pd.DataFrame(result3)\n",
    "bjj_comments['type'] = [\"comments\" for x in bjj_comments[0]]\n",
    "bjj_comments['label'] = [\"bjj\" for x in bjj_comments[0]]\n",
    "bjj_comments.head()"
   ]
  },
  {
   "cell_type": "code",
   "execution_count": 17,
   "id": "219c1a72-ad91-4533-b8a9-f81712b33f93",
   "metadata": {},
   "outputs": [
    {
     "data": {
      "text/plain": [
       "30022"
      ]
     },
     "execution_count": 17,
     "metadata": {},
     "output_type": "execute_result"
    }
   ],
   "source": [
    "# Removing duplicated posts and checking the final length of remaining posts\n",
    "\n",
    "bjj_comments.drop_duplicates(subset = 0, inplace = True)\n",
    "len(bjj_comments)"
   ]
  },
  {
   "cell_type": "code",
   "execution_count": 18,
   "id": "e44ec0a9-acdd-45b0-8d89-d62cd82ee326",
   "metadata": {},
   "outputs": [],
   "source": [
    "# Exporting the dataset\n",
    "\n",
    "bjj_comments.to_csv('../data/bjj_comments.csv')"
   ]
  },
  {
   "cell_type": "code",
   "execution_count": 19,
   "id": "2fea3cb6-ee75-449d-b2d7-860724631336",
   "metadata": {},
   "outputs": [
    {
     "data": {
      "text/plain": [
       "2829"
      ]
     },
     "execution_count": 19,
     "metadata": {},
     "output_type": "execute_result"
    }
   ],
   "source": [
    "# Obtaining text from submissions on r/bjj\n",
    "\n",
    "result4 = []\n",
    "for i in bjj_subs:\n",
    "    result4.append(i['selftext'])\n",
    "len(result4)"
   ]
  },
  {
   "cell_type": "code",
   "execution_count": 20,
   "id": "150a939c-8c4d-47af-81ce-e7d70185b807",
   "metadata": {},
   "outputs": [
    {
     "data": {
      "text/html": [
       "<div>\n",
       "<style scoped>\n",
       "    .dataframe tbody tr th:only-of-type {\n",
       "        vertical-align: middle;\n",
       "    }\n",
       "\n",
       "    .dataframe tbody tr th {\n",
       "        vertical-align: top;\n",
       "    }\n",
       "\n",
       "    .dataframe thead th {\n",
       "        text-align: right;\n",
       "    }\n",
       "</style>\n",
       "<table border=\"1\" class=\"dataframe\">\n",
       "  <thead>\n",
       "    <tr style=\"text-align: right;\">\n",
       "      <th></th>\n",
       "      <th>0</th>\n",
       "      <th>type</th>\n",
       "      <th>label</th>\n",
       "    </tr>\n",
       "  </thead>\n",
       "  <tbody>\n",
       "    <tr>\n",
       "      <th>0</th>\n",
       "      <td>[removed]</td>\n",
       "      <td>subs</td>\n",
       "      <td>bjj</td>\n",
       "    </tr>\n",
       "    <tr>\n",
       "      <th>1</th>\n",
       "      <td>Looking for a good non-Danaher gi instructiona...</td>\n",
       "      <td>subs</td>\n",
       "      <td>bjj</td>\n",
       "    </tr>\n",
       "    <tr>\n",
       "      <th>2</th>\n",
       "      <td></td>\n",
       "      <td>subs</td>\n",
       "      <td>bjj</td>\n",
       "    </tr>\n",
       "    <tr>\n",
       "      <th>3</th>\n",
       "      <td>I’ll start by saying that I like and train no ...</td>\n",
       "      <td>subs</td>\n",
       "      <td>bjj</td>\n",
       "    </tr>\n",
       "    <tr>\n",
       "      <th>4</th>\n",
       "      <td>Any way to shrink one?</td>\n",
       "      <td>subs</td>\n",
       "      <td>bjj</td>\n",
       "    </tr>\n",
       "  </tbody>\n",
       "</table>\n",
       "</div>"
      ],
      "text/plain": [
       "                                                   0  type label\n",
       "0                                          [removed]  subs   bjj\n",
       "1  Looking for a good non-Danaher gi instructiona...  subs   bjj\n",
       "2                                                     subs   bjj\n",
       "3  I’ll start by saying that I like and train no ...  subs   bjj\n",
       "4                             Any way to shrink one?  subs   bjj"
      ]
     },
     "execution_count": 20,
     "metadata": {},
     "output_type": "execute_result"
    }
   ],
   "source": [
    "# Converting to dataframe and assigning labels \n",
    "\n",
    "bjj_subs = pd.DataFrame(result4)\n",
    "bjj_subs['type'] = [\"subs\" for x in bjj_subs[0]]\n",
    "bjj_subs['label'] = [\"bjj\" for x in bjj_subs[0]]\n",
    "bjj_subs.head()"
   ]
  },
  {
   "cell_type": "code",
   "execution_count": 21,
   "id": "3e5a35c6-cd9e-441c-b05f-05a7614ab56f",
   "metadata": {},
   "outputs": [
    {
     "data": {
      "text/plain": [
       "1528"
      ]
     },
     "execution_count": 21,
     "metadata": {},
     "output_type": "execute_result"
    }
   ],
   "source": [
    "# Removing duplicated posts and checking the final length of remaining posts\n",
    "\n",
    "bjj_subs.drop_duplicates(inplace = True)\n",
    "len(bjj_subs)"
   ]
  },
  {
   "cell_type": "code",
   "execution_count": 22,
   "id": "0e33a7ed-2887-488b-a39e-b0e25302425f",
   "metadata": {},
   "outputs": [],
   "source": [
    "# Exporting the dataset\n",
    "\n",
    "bjj_subs.to_csv('../data/bjj_subs.csv')"
   ]
  },
  {
   "cell_type": "code",
   "execution_count": null,
   "id": "58da7dee-6bd7-4ee1-beca-f883cc0e0ad0",
   "metadata": {},
   "outputs": [],
   "source": []
  },
  {
   "cell_type": "code",
   "execution_count": null,
   "id": "a0747834-e0e0-429b-930a-134aa6e9c9d0",
   "metadata": {},
   "outputs": [],
   "source": []
  },
  {
   "cell_type": "code",
   "execution_count": null,
   "id": "b2d7dc9a-a95b-4b78-a27d-dd82db1f02af",
   "metadata": {},
   "outputs": [],
   "source": []
  },
  {
   "cell_type": "code",
   "execution_count": null,
   "id": "c4d21e07-0618-4a5b-b9e2-b72506951cb3",
   "metadata": {},
   "outputs": [],
   "source": []
  }
 ],
 "metadata": {
  "kernelspec": {
   "display_name": "dsi-sg",
   "language": "python",
   "name": "dsi-sg"
  },
  "language_info": {
   "codemirror_mode": {
    "name": "ipython",
    "version": 3
   },
   "file_extension": ".py",
   "mimetype": "text/x-python",
   "name": "python",
   "nbconvert_exporter": "python",
   "pygments_lexer": "ipython3",
   "version": "3.9.13"
  }
 },
 "nbformat": 4,
 "nbformat_minor": 5
}
